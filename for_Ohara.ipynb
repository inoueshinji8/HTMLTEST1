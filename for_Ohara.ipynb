{
  "nbformat": 4,
  "nbformat_minor": 0,
  "metadata": {
    "colab": {
      "name": "for_Ohara.ipynb",
      "provenance": [],
      "authorship_tag": "ABX9TyOmV1U+Ag9ksAEoPgXPPCLL",
      "include_colab_link": true
    },
    "kernelspec": {
      "name": "python3",
      "display_name": "Python 3"
    },
    "language_info": {
      "name": "python"
    }
  },
  "cells": [
    {
      "cell_type": "markdown",
      "metadata": {
        "id": "view-in-github",
        "colab_type": "text"
      },
      "source": [
        "<a href=\"https://colab.research.google.com/github/inoueshinji8/HTMLTEST1/blob/main/for_Ohara.ipynb\" target=\"_parent\"><img src=\"https://colab.research.google.com/assets/colab-badge.svg\" alt=\"Open In Colab\"/></a>"
      ]
    },
    {
      "cell_type": "code",
      "metadata": {
        "colab": {
          "base_uri": "https://localhost:8080/"
        },
        "id": "_vS6elV5PwO_",
        "outputId": "87ba0137-18e8-467e-a748-05645fc49b5e"
      },
      "source": [
        "from google.colab import drive\n",
        "drive.mount('/content/drive')"
      ],
      "execution_count": 1,
      "outputs": [
        {
          "output_type": "stream",
          "name": "stdout",
          "text": [
            "Mounted at /content/drive\n"
          ]
        }
      ]
    },
    {
      "cell_type": "code",
      "metadata": {
        "colab": {
          "base_uri": "https://localhost:8080/"
        },
        "id": "poLj3RlmQAfT",
        "outputId": "0d8a40d5-d3f7-4573-f886-39a4c29fc3c0"
      },
      "source": [
        "%cd drive/My Drive"
      ],
      "execution_count": 2,
      "outputs": [
        {
          "output_type": "stream",
          "name": "stdout",
          "text": [
            "/content/drive/My Drive\n"
          ]
        }
      ]
    },
    {
      "cell_type": "code",
      "metadata": {
        "colab": {
          "base_uri": "https://localhost:8080/"
        },
        "id": "GKdMi5mNQRMc",
        "outputId": "183cb8a4-14b3-438a-b657-10cadf9eabfc"
      },
      "source": [
        "!ls"
      ],
      "execution_count": 3,
      "outputs": [
        {
          "output_type": "stream",
          "name": "stdout",
          "text": [
            "'Colab Notebooks'\t\t  savetest3\n",
            " datatest1\t\t\t  testdrive1\n",
            " firsttest1.gsheet\t\t  usualbuy.csv\n",
            "'no_name_houseworks (1).gsheet'   vNote.vnt\n",
            " no_name_houseworks.gsheet\t  ziptestroom\n",
            " pictlesson\t\t\t  時間と充電率の気分的な安心感.gsheet\n",
            " programtest_plane1\t\t  無題のプロジェクト.gscript\n",
            " R210816c13.txt\t\t\t  レス用メモ.gdoc\n",
            " savetest1\t\t\t  買い物リスト.gsheet\n",
            " savetest2\n"
          ]
        }
      ]
    },
    {
      "cell_type": "code",
      "metadata": {
        "id": "NBwitUrqQbe8"
      },
      "source": [
        "# ファイル操作用\n",
        "import glob\n",
        "import os\n",
        "import csv\n",
        "\n",
        "# 数値処理用\n",
        "import pandas as pd\n",
        "\n",
        "# 可視化用\n",
        "from matplotlib import pyplot as plt\n",
        "from matplotlib.ticker import ScalarFormatter"
      ],
      "execution_count": 4,
      "outputs": []
    },
    {
      "cell_type": "code",
      "metadata": {
        "id": "Wl8wcgFcQmLw"
      },
      "source": [
        "file_path='/content/drive/MyDrive/R210816c13.txt'\n",
        "with open(file_path) as f:\n",
        "  s = f.read()"
      ],
      "execution_count": 5,
      "outputs": []
    },
    {
      "cell_type": "code",
      "metadata": {
        "id": "XK9UNOw1Q658"
      },
      "source": [
        "output_folder = 'output'\n",
        "os.makedirs(output_folder,exist_ok = True)"
      ],
      "execution_count": 6,
      "outputs": []
    },
    {
      "cell_type": "code",
      "metadata": {
        "colab": {
          "base_uri": "https://localhost:8080/"
        },
        "id": "M0W6MrcMRHXy",
        "outputId": "e4264342-52a6-48b5-eab8-f1a7319a2aea"
      },
      "source": [
        "!ls"
      ],
      "execution_count": 7,
      "outputs": [
        {
          "output_type": "stream",
          "name": "stdout",
          "text": [
            "'Colab Notebooks'\t\t  savetest2\n",
            " datatest1\t\t\t  savetest3\n",
            " firsttest1.gsheet\t\t  testdrive1\n",
            "'no_name_houseworks (1).gsheet'   usualbuy.csv\n",
            " no_name_houseworks.gsheet\t  vNote.vnt\n",
            " output\t\t\t\t  ziptestroom\n",
            " pictlesson\t\t\t  時間と充電率の気分的な安心感.gsheet\n",
            " programtest_plane1\t\t  無題のプロジェクト.gscript\n",
            " R210816c13.txt\t\t\t  レス用メモ.gdoc\n",
            " savetest1\t\t\t  買い物リスト.gsheet\n"
          ]
        }
      ]
    },
    {
      "cell_type": "code",
      "metadata": {
        "id": "CuzlRQJ5RK9t"
      },
      "source": [
        "def read_files(extension):\n",
        "    \"\"\"\n",
        "    概要: 特定の拡張子のついたファイルをすべて読み込む\n",
        "    @param extension: 読み込む拡張子\n",
        "    @return 拡張子をぬいたファイル名，　ファイル数，　出力で使うファイル名\n",
        "    \"\"\"\n",
        "\n",
        "    #入力データのフォルダーを\"data\"とする\n",
        "    input_files = glob.glob(file_path)\n",
        "\n",
        "    # 読み込みファイル数の取得\n",
        "    number_of_files = len(input_files)\n",
        "\n",
        "    # 拡張子を抜いたファイル名（出力用）\n",
        "    output_name = [os.path.splitext(os.path.basename(p))[0] for p in input_files]\n",
        "\n",
        "    return input_files, number_of_files, output_name"
      ],
      "execution_count": 8,
      "outputs": []
    },
    {
      "cell_type": "code",
      "metadata": {
        "colab": {
          "base_uri": "https://localhost:8080/"
        },
        "id": "ttLxQb69RYOs",
        "outputId": "396dec82-e12a-4cb8-d1b5-e99d49b3789e"
      },
      "source": [
        "default_extension = 'txt'\n",
        "read_files(default_extension)"
      ],
      "execution_count": 9,
      "outputs": [
        {
          "output_type": "execute_result",
          "data": {
            "text/plain": [
              "(['/content/drive/MyDrive/R210816c13.txt'], 1, ['R210816c13'])"
            ]
          },
          "metadata": {},
          "execution_count": 9
        }
      ]
    },
    {
      "cell_type": "code",
      "metadata": {
        "id": "pG7mSJZfRgR2"
      },
      "source": [
        "def get_line_number(filename,word):\n",
        "    \"\"\"\n",
        "    概要: 特定の文字（単語）が何行目に出現するか\n",
        "    @param filename: ファイル名\n",
        "    @param wotd: 検索したい単語\n",
        "    @return 行番号\n",
        "    \"\"\"\n",
        "    with open(filename,  newline='') as f:\n",
        "        reader = csv.reader(f)\n",
        "        text = [row for row in reader]\n",
        "     \n",
        "    for i in range(len(text)):\n",
        "        if word in text[i]:\n",
        "            match_line = i\n",
        "    \n",
        "    return match_line"
      ],
      "execution_count": 10,
      "outputs": []
    },
    {
      "cell_type": "code",
      "metadata": {
        "colab": {
          "base_uri": "https://localhost:8080/"
        },
        "id": "YBc_FpHMRnRE",
        "outputId": "23e5fb7e-e695-4ca1-a674-2fe327137e74"
      },
      "source": [
        "filename = \"/content/drive/MyDrive/R210816c13.txt\"\n",
        "word = '@13'\n",
        "get_line_number(filename,word)"
      ],
      "execution_count": 12,
      "outputs": [
        {
          "output_type": "execute_result",
          "data": {
            "text/plain": [
              "39"
            ]
          },
          "metadata": {},
          "execution_count": 12
        }
      ]
    }
  ]
}